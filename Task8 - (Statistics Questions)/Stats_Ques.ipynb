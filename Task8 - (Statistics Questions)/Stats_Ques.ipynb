{
 "cells": [
  {
   "cell_type": "code",
   "execution_count": null,
   "metadata": {},
   "outputs": [],
   "source": [
    "# Problem-1: https://www.hackerrank.com/challenges/s10-binomial-distribution-1/problem"
   ]
  },
  {
   "cell_type": "code",
   "execution_count": 8,
   "metadata": {},
   "outputs": [
    {
     "name": "stdout",
     "output_type": "stream",
     "text": [
      "1.09 1\n",
      "Result: 0.696\n"
     ]
    }
   ],
   "source": [
    "# Factorial Formula\n",
    "def factorial(N):\n",
    "    \n",
    "    if N == 0:\n",
    "        return 1\n",
    "    else:\n",
    "        return N*factorial(N-1)\n",
    "        \n",
    "# Combination Formula\n",
    "def nCx(n, x):\n",
    "    return factorial(n)/(factorial(x) * factorial(n-x))\n",
    "\n",
    "#Binomial Distribution Formula\n",
    "def bd(x, n, p):\n",
    "    return nCx(n, x) * p**x * (1-p)**(n-x)\n",
    "\n",
    "a, b = list(map(float, input().split()))\n",
    "\n",
    "odds = a / b\n",
    "\n",
    "ans = sum([bd(i, 6, odds / (1 + odds)) for i in range(3, 7)])\n",
    "\n",
    "print('Result:',round(ans,3))"
   ]
  },
  {
   "cell_type": "code",
   "execution_count": null,
   "metadata": {},
   "outputs": [],
   "source": [
    "# Problem-2: https://www.hackerrank.com/challenges/s10-binomial-distribution-2/problem"
   ]
  },
  {
   "cell_type": "code",
   "execution_count": 10,
   "metadata": {},
   "outputs": [
    {
     "name": "stdout",
     "output_type": "stream",
     "text": [
      "12 10\n",
      "Result 1:  0.891\n",
      "Result 2:  0.342\n"
     ]
    }
   ],
   "source": [
    "# Factorial Formula\n",
    "def factorial(N):\n",
    "    \n",
    "    if N == 0:\n",
    "        return 1\n",
    "    else:\n",
    "        return N*factorial(N-1)\n",
    "\n",
    "# Combination Formula\n",
    "def nCx(n, x):\n",
    "    \n",
    "    return factorial(n)/(factorial(x) * factorial(n-x))\n",
    "\n",
    "#Binomial Distribution Formula\n",
    "def bd(x, n, p):\n",
    "    return nCx(n, x) * p**x * (1-p)**(n-x)\n",
    "\n",
    "p, n = list(map(int, input().split()))\n",
    "\n",
    "case_1 = sum([bd(i, n, p/100) for i in range(3)])\n",
    "\n",
    "print('Result 1: ',round(case_1,3))\n",
    "\n",
    "case_2 = sum([bd(i, n, p/100) for i in range(2, n+1)])\n",
    "\n",
    "print('Result 2: ',round(case_2,3))"
   ]
  },
  {
   "cell_type": "code",
   "execution_count": null,
   "metadata": {},
   "outputs": [],
   "source": [
    "# Problem-3 : https://www.hackerrank.com/challenges/s10-normal-distribution-1/problem"
   ]
  },
  {
   "cell_type": "code",
   "execution_count": 12,
   "metadata": {},
   "outputs": [
    {
     "name": "stdout",
     "output_type": "stream",
     "text": [
      "Enter Mean: 20\n",
      "Enter Standard Deviation: 2\n",
      "Result : 0.401\n",
      "Result:  0.341\n"
     ]
    }
   ],
   "source": [
    "import math\n",
    "\n",
    "mean =  int(input('Enter Mean: '))\n",
    "\n",
    "std = int(input('Enter Standard Deviation: '))\n",
    "\n",
    "cdf = lambda x: 0.5 * (1 + math.erf((x - mean) / (std * (2 ** 0.5))))\n",
    "\n",
    "# Less than 19.5\n",
    "\n",
    "print('Result :' ,round(cdf(19.5),3))\n",
    "\n",
    "# Between 20 and 22\n",
    "print('Result: ',round((cdf(22) - cdf(20)),3))"
   ]
  },
  {
   "cell_type": "code",
   "execution_count": null,
   "metadata": {},
   "outputs": [],
   "source": [
    "# Problem-4 : https://www.hackerrank.com/challenges/s10-normal-distribution-2/forum"
   ]
  },
  {
   "cell_type": "code",
   "execution_count": 18,
   "metadata": {},
   "outputs": [
    {
     "name": "stdout",
     "output_type": "stream",
     "text": [
      "Enter Mean: 70\n",
      "Enter Standard Deviation: 10\n",
      "Cutoff Score 1:80\n",
      "Cutoff Score 2:60\n",
      "Result 1:  15.87\n",
      "Result 2:  84.13\n",
      "Result 3:  15.87\n"
     ]
    }
   ],
   "source": [
    "import math\n",
    "\n",
    "mean =  int(input('Enter Mean: '))\n",
    "\n",
    "std = int(input('Enter Standard Deviation: '))\n",
    "\n",
    "cutoff1 = int(input('Cutoff Score 1:'))\n",
    "\n",
    "cutoff2 = int(input('Cutoff Score 2:'))\n",
    "\n",
    "cdf = lambda x: 0.5 * (1 + math.erf((x - mean) / (std * (2 ** 0.5))))\n",
    "\n",
    "a1 = (1-cdf(cutoff1))*100\n",
    "\n",
    "a2 = (1-cdf(cutoff2))*100\n",
    "\n",
    "a3 = (cdf(cutoff2))*100\n",
    "\n",
    "print('Result 1: ',round(a1,2))\n",
    "\n",
    "print('Result 2: ',round(a2,2))\n",
    "\n",
    "print('Result 3: ',round(a3,2))"
   ]
  },
  {
   "cell_type": "code",
   "execution_count": null,
   "metadata": {},
   "outputs": [],
   "source": [
    "# Problem 5: https://www.hackerrank.com/challenges/s10-the-central-limit-theorem-1"
   ]
  },
  {
   "cell_type": "code",
   "execution_count": 19,
   "metadata": {},
   "outputs": [
    {
     "name": "stdout",
     "output_type": "stream",
     "text": [
      "9800\n",
      "49\n",
      "205\n",
      "15\n",
      "Probability:  0.009815328628645315\n"
     ]
    }
   ],
   "source": [
    "import math\n",
    "\n",
    "max_weight = int(input())\n",
    "\n",
    "num_box = int(input())\n",
    "\n",
    "mean = int(input())\n",
    "\n",
    "std = int(input())\n",
    "\n",
    "meanSum = num_box * mean\n",
    "\n",
    "stdSum = math.sqrt(num_box) * std\n",
    "\n",
    "def cdf(max_weight, mean, std):\n",
    "    \n",
    "    Z = (max_weight - mean)/std\n",
    "    \n",
    "    return 0.5*(1 + math.erf(Z/(math.sqrt(2))))\n",
    "\n",
    "res = cdf(max_weight, meanSum, stdSum)\n",
    "\n",
    "print('Probability: ',res)"
   ]
  },
  {
   "cell_type": "code",
   "execution_count": null,
   "metadata": {},
   "outputs": [],
   "source": [
    "# Problem 6: https://www.hackerrank.com/challenges/s10-pearson-correlation-coefficient"
   ]
  },
  {
   "cell_type": "code",
   "execution_count": 3,
   "metadata": {},
   "outputs": [
    {
     "name": "stdout",
     "output_type": "stream",
     "text": [
      "10\n",
      "10 9.8 8 7.8 7.7 7 6 5 4 2\n",
      "200 44 32 24 22 17 15 12 8 4\n",
      "Pearson Rank Correlation Coefficient : 0.612\n"
     ]
    }
   ],
   "source": [
    "import math\n",
    "\n",
    "size =int(input())\n",
    "\n",
    "li_1 = list(map(float,input().split()))\n",
    "\n",
    "li_2 = list(map(float,input().split()))\n",
    "\n",
    "muX = sum(li_1)/size\n",
    "\n",
    "muY = sum(li_2)/size\n",
    "\n",
    "sqX = []\n",
    "\n",
    "sqY = []\n",
    "\n",
    "proXY = []\n",
    "\n",
    "for i in range(size):\n",
    "    \n",
    "    sqX.append((li_1[i]-muX)*(li_1[i]-muX))\n",
    "    \n",
    "    sqY.append((li_2[i]-muY)*(li_2[i]-muY))\n",
    "    \n",
    "    proXY.append((li_1[i]-muX)*(li_2[i]-muY))\n",
    "    \n",
    "sigX = math.sqrt(sum(sqX)/size)\n",
    "\n",
    "sigY = math.sqrt(sum(sqY)/size)\n",
    "\n",
    "res = sum(proXY)/(size*sigX*sigY)\n",
    "\n",
    "print('Pearson Rank Correlation Coefficient :' ,round(res,3))"
   ]
  },
  {
   "cell_type": "code",
   "execution_count": null,
   "metadata": {},
   "outputs": [],
   "source": [
    "#Problem 7: https://www.hackerrank.com/challenges/s10-the-central-limit-theorem-2/problem"
   ]
  },
  {
   "cell_type": "code",
   "execution_count": 4,
   "metadata": {},
   "outputs": [
    {
     "name": "stdout",
     "output_type": "stream",
     "text": [
      "250\n",
      "100\n",
      "2.4\n",
      "2.0\n",
      "Probability:  0.691462461274013\n"
     ]
    }
   ],
   "source": [
    "import math\n",
    "\n",
    "num_ticket = int(input())\n",
    "\n",
    "studWait = int(input())\n",
    "\n",
    "mean = float(input())\n",
    "\n",
    "std = float(input())\n",
    "\n",
    "meanSum = studWait * mean\n",
    "\n",
    "stdSum = math.sqrt(studWait) * std\n",
    "\n",
    "def cdf(num_ticket, mean, std):\n",
    "    \n",
    "    Z = (num_ticket - mean)/std\n",
    "    \n",
    "    return 0.5*(1 + math.erf(Z/(math.sqrt(2))))\n",
    "\n",
    "res = cdf(num_ticket, meanSum, stdSum)\n",
    "\n",
    "print('Probability: ',res)"
   ]
  },
  {
   "cell_type": "code",
   "execution_count": null,
   "metadata": {},
   "outputs": [],
   "source": [
    "# Problem 8: https://www.hackerrank.com/challenges/s10-the-central-limit-theorem-3/problem"
   ]
  },
  {
   "cell_type": "code",
   "execution_count": 9,
   "metadata": {},
   "outputs": [
    {
     "name": "stdout",
     "output_type": "stream",
     "text": [
      "100  \n",
      "500  \n",
      "80  \n",
      ".95  \n",
      "1.96\n",
      "A:  484.32\n",
      "B:  515.68\n"
     ]
    }
   ],
   "source": [
    "from math import sqrt\n",
    "\n",
    "s_size = int(input())\n",
    "\n",
    "mean = int(input())\n",
    "\n",
    "std = int(input())\n",
    "\n",
    "percent = float(input())\n",
    "\n",
    "z = float(input())\n",
    "\n",
    "A = mean - (std / sqrt(s_size)) * z\n",
    "\n",
    "B = mean + (std / sqrt(s_size)) * z\n",
    "\n",
    "print('A: ',round(A, 2))\n",
    "\n",
    "print('B: ',round(B, 2))"
   ]
  },
  {
   "cell_type": "code",
   "execution_count": null,
   "metadata": {},
   "outputs": [],
   "source": [
    "#Problem 9: https://www.hackerrank.com/challenges/s10-least-square-regression-line/problem"
   ]
  },
  {
   "cell_type": "code",
   "execution_count": 6,
   "metadata": {},
   "outputs": [
    {
     "name": "stdout",
     "output_type": "stream",
     "text": [
      "95 85 \n",
      "85 95  \n",
      "80 70  \n",
      "70 65  \n",
      "60 70\n",
      "Enter Score: 80\n",
      "Score:  78.288\n"
     ]
    }
   ],
   "source": [
    "math = []\n",
    "\n",
    "stats = []\n",
    "\n",
    "for i in range(5):\n",
    "    \n",
    "    inp = list(input().split())\n",
    "    \n",
    "    math.append(int(inp[0]))\n",
    "    \n",
    "    stats.append(int(inp[1]))\n",
    "    \n",
    "n = len(math)\n",
    "\n",
    "m_sum = sum(math)\n",
    "\n",
    "m_sum_sqr = m_sum**2\n",
    "\n",
    "m_sqr_sum = sum([x_i**2 for x_i in math])\n",
    "\n",
    "y_sum = sum(stats)\n",
    "\n",
    "sum_prod_ms = 0\n",
    "\n",
    "for x_i,y_i in zip(math,stats):\n",
    "    \n",
    "    sum_prod_ms += (x_i*y_i)\n",
    "    \n",
    "b = (n*sum_prod_ms - m_sum*y_sum) / (n*m_sqr_sum - m_sum_sqr)\n",
    "\n",
    "y_mean = y_sum/n\n",
    "\n",
    "x_mean = m_sum/n\n",
    "\n",
    "a = y_mean - b*x_mean\n",
    "\n",
    "# to make prediction\n",
    "x_test = int(input('Enter Score: '))\n",
    "\n",
    "y_test = a + b * x_test\n",
    "\n",
    "print('Score: ',round(y_test,3))"
   ]
  },
  {
   "cell_type": "code",
   "execution_count": null,
   "metadata": {},
   "outputs": [],
   "source": [
    "#Problem 10: https://www.hackerrank.com/challenges/s10-multiple-linear-regression/problem"
   ]
  },
  {
   "cell_type": "code",
   "execution_count": 12,
   "metadata": {},
   "outputs": [
    {
     "name": "stdout",
     "output_type": "stream",
     "text": [
      "2 7\n",
      "0.18 0.89 109.85\n",
      "1.0 0.26 155.72\n",
      "0.92 0.11 137.66\n",
      "0.07 0.37 76.17\n",
      "0.85 0.16 139.75\n",
      "0.99 0.41 162.6\n",
      "0.87 0.47 151.77\n",
      "4\n",
      "0.49 0.18 \n",
      "0.57 0.83 \n",
      "0.56 0.64 \n",
      "0.76 0.18\n",
      "Y : 105.21455835106977\n",
      "Y : 142.67095130729956\n",
      "Y : 132.93605469124725\n",
      "Y : 129.7017540450248\n"
     ]
    }
   ],
   "source": [
    "import numpy as np\n",
    "\n",
    "M , N = list(map(int,input().split()))\n",
    "\n",
    "x = np.ones((N,M+1))\n",
    "\n",
    "y = np.zeros((N,1))\n",
    "\n",
    "for i in range(N):\n",
    "    \n",
    "    observed = np.array(list(map(float,input().split())))\n",
    "    \n",
    "    for k in range(M):\n",
    "        \n",
    "        x[i,k+1] = observed[k]\n",
    "        \n",
    "    y[i,0] = observed[M]\n",
    "    \n",
    "num_query = int(input())\n",
    "\n",
    "xtest = np.ones((num_query,M+1))\n",
    "\n",
    "for i in range(num_query):\n",
    "    \n",
    "    test = np.array(list(map(float,input().split())))\n",
    "    \n",
    "    for j in range(M):\n",
    "        \n",
    "        xtest[i,j+1] = test[j]\n",
    "\n",
    "xtx = (x.T).dot(x)\n",
    "\n",
    "xtxinv = np.linalg.inv(xtx)\n",
    "\n",
    "xtxinvxt = xtxinv.dot(x.T)\n",
    "\n",
    "b = xtxinvxt.dot(y)\n",
    "\n",
    "for j in range(num_query):\n",
    "    \n",
    "    print('Y :', float(xtest[j].dot(b)))"
   ]
  }
 ],
 "metadata": {
  "kernelspec": {
   "display_name": "Python 3",
   "language": "python",
   "name": "python3"
  },
  "language_info": {
   "codemirror_mode": {
    "name": "ipython",
    "version": 3
   },
   "file_extension": ".py",
   "mimetype": "text/x-python",
   "name": "python",
   "nbconvert_exporter": "python",
   "pygments_lexer": "ipython3",
   "version": "3.8.5"
  }
 },
 "nbformat": 4,
 "nbformat_minor": 4
}
